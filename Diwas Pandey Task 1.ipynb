{
 "cells": [
  {
   "cell_type": "markdown",
   "metadata": {},
   "source": [
    "<div style=\"background-color: green;text-align:center;padding: 20px;font-size: 16px;color:white;\">\n",
    "Predict the Percentage VS Study Hours\n",
    "</div>\n",
    "<div style=\"background-color: #303030;text-align:right;padding: 10px;font-size: 16px;color:white;\">\n",
    "DIWAS PANDEY - DATA SCIENCE INTERNSHIP\n",
    "</div>"
   ]
  },
  {
   "cell_type": "markdown",
   "metadata": {},
   "source": [
    "Supervised means to oversee or direct a certain activity and make sure it is done correctly. In this type of learning the machine learns under guidance. So, at school or teachers guided us and taught us similarly in supervised learning machines learn by feeding them label data and explicitly telling them that this is the input and this is exactly how the output must look. So, the teacher, in this case, is the training data.\n",
    "\n",
    "    Linear Regression\n",
    "    Logistic Regression\n",
    "    Support Vector Machine\n",
    "    Naive Bayes Classifier\n",
    "    Artificial Neural Networks, etc"
   ]
  },
  {
   "cell_type": "markdown",
   "metadata": {},
   "source": [
    "Regression is the method which measures the average relationship between two or more continuous variables in term of the response variable and feature variables. In other words, regression analysis is to know the nature of the relationship between two or more variables to use it for predicting the most likely value of dependent variables for a given value of independent variables. Linear regression is a mostly used regression algorithm."
   ]
  },
  {
   "cell_type": "markdown",
   "metadata": {},
   "source": [
    "<div style=\"background-color:blue;text-align:center;padding: 20px;font-size: 16px;color:white;\">\n",
    "LINEAR REGRESSION\n",
    "</div>"
   ]
  },
  {
   "cell_type": "markdown",
   "metadata": {},
   "source": [
    "Linear Regression is a supervised method that tries to find a relation between a continuous set of variables from any given dataset. So, the problem statement that the algorithm tries to solve linearly is to best fit a line/plane/hyperplane (as the dimension goes on increasing) for any given set of data.\n",
    "\n",
    "This algorithm use statistics on the training data to find the best fit linear or straight-line relationship between the input variables (X) and output variable (y). Simple equation of Linear Regression model can be written as:"
   ]
  },
  {
   "cell_type": "raw",
   "metadata": {},
   "source": [
    "Y=mX+c ;Here m and c are calculated on training"
   ]
  },
  {
   "cell_type": "markdown",
   "metadata": {},
   "source": [
    "In the above equation, m is the scale factor or coefficient, c being the bias coefficient, Y is the dependent variable and X is the independent variable. Once the coefficient m and c are known, this equation can be used to predict the output value Y when input X is provided."
   ]
  },
  {
   "cell_type": "markdown",
   "metadata": {},
   "source": [
    "Mathematically, coefficients m and c can be calculated as:"
   ]
  },
  {
   "cell_type": "raw",
   "metadata": {},
   "source": [
    "m = sum((X(i) - mean(X)) * (Y(i) - mean(Y))) / sum( (X(i) - mean(X))^2 )\n",
    "\n",
    "c = mean(Y) - m * mean(X)"
   ]
  },
  {
   "cell_type": "markdown",
   "metadata": {},
   "source": [
    "<div style=\"background-color:pink;text-align:center;padding: 20px;font-size: 16px;color:black;\">\n",
    "LET's DIVE INTO CODE\n",
    "</div>"
   ]
  },
  {
   "cell_type": "code",
   "execution_count": 1,
   "metadata": {},
   "outputs": [
    {
     "data": {
      "text/html": [
       "<div>\n",
       "<style scoped>\n",
       "    .dataframe tbody tr th:only-of-type {\n",
       "        vertical-align: middle;\n",
       "    }\n",
       "\n",
       "    .dataframe tbody tr th {\n",
       "        vertical-align: top;\n",
       "    }\n",
       "\n",
       "    .dataframe thead th {\n",
       "        text-align: right;\n",
       "    }\n",
       "</style>\n",
       "<table border=\"1\" class=\"dataframe\">\n",
       "  <thead>\n",
       "    <tr style=\"text-align: right;\">\n",
       "      <th></th>\n",
       "      <th>Hours</th>\n",
       "      <th>Scores</th>\n",
       "    </tr>\n",
       "  </thead>\n",
       "  <tbody>\n",
       "    <tr>\n",
       "      <th>0</th>\n",
       "      <td>2.5</td>\n",
       "      <td>21</td>\n",
       "    </tr>\n",
       "    <tr>\n",
       "      <th>1</th>\n",
       "      <td>5.1</td>\n",
       "      <td>47</td>\n",
       "    </tr>\n",
       "    <tr>\n",
       "      <th>2</th>\n",
       "      <td>3.2</td>\n",
       "      <td>27</td>\n",
       "    </tr>\n",
       "    <tr>\n",
       "      <th>3</th>\n",
       "      <td>8.5</td>\n",
       "      <td>75</td>\n",
       "    </tr>\n",
       "    <tr>\n",
       "      <th>4</th>\n",
       "      <td>3.5</td>\n",
       "      <td>30</td>\n",
       "    </tr>\n",
       "  </tbody>\n",
       "</table>\n",
       "</div>"
      ],
      "text/plain": [
       "   Hours  Scores\n",
       "0    2.5      21\n",
       "1    5.1      47\n",
       "2    3.2      27\n",
       "3    8.5      75\n",
       "4    3.5      30"
      ]
     },
     "execution_count": 1,
     "metadata": {},
     "output_type": "execute_result"
    }
   ],
   "source": [
    "#importing required libraries & dataset for the project\n",
    "import pandas as pd\n",
    "import numpy as np  \n",
    "import matplotlib.pyplot as plt  \n",
    "%matplotlib inline\n",
    "\n",
    "df = pd.read_csv(\"data.csv\")      #importing dataset\n",
    "df.head(5)                   #first five dataset value"
   ]
  },
  {
   "cell_type": "code",
   "execution_count": 2,
   "metadata": {},
   "outputs": [
    {
     "name": "stdout",
     "output_type": "stream",
     "text": [
      "<class 'pandas.core.frame.DataFrame'>\n",
      "RangeIndex: 25 entries, 0 to 24\n",
      "Data columns (total 2 columns):\n",
      " #   Column  Non-Null Count  Dtype  \n",
      "---  ------  --------------  -----  \n",
      " 0   Hours   25 non-null     float64\n",
      " 1   Scores  25 non-null     int64  \n",
      "dtypes: float64(1), int64(1)\n",
      "memory usage: 528.0 bytes\n"
     ]
    }
   ],
   "source": [
    "df.info()    "
   ]
  },
  {
   "cell_type": "code",
   "execution_count": 3,
   "metadata": {},
   "outputs": [
    {
     "data": {
      "text/plain": [
       "Hours     0\n",
       "Scores    0\n",
       "dtype: int64"
      ]
     },
     "execution_count": 3,
     "metadata": {},
     "output_type": "execute_result"
    }
   ],
   "source": [
    "#checking null data\n",
    "df.isnull().sum()"
   ]
  },
  {
   "cell_type": "code",
   "execution_count": 5,
   "metadata": {},
   "outputs": [
    {
     "data": {
      "image/png": "[encoded data removed]",
      "text/plain": [
       "<Figure size 864x288 with 1 Axes>"
      ]
     },
     "metadata": {
      "needs_background": "light"
     },
     "output_type": "display_data"
    }
   ],
   "source": [
    "import seaborn as sns\n",
    "fig,axs=plt.subplots(ncols=1)\n",
    "fig.set_size_inches(12,4)\n",
    "sns.barplot(x='Hours',y='Scores',data=df)\n",
    "axs.set_title('Study Hours VS Score Plot')\n",
    "plt.tight_layout()\n",
    "plt.show()"
   ]
  },
  {
   "cell_type": "code",
   "execution_count": 6,
   "metadata": {},
   "outputs": [
    {
     "data": {
      "image/png": "[encoded data removed]",
      "text/plain": [
       "<Figure size 432x288 with 1 Axes>"
      ]
     },
     "metadata": {
      "needs_background": "light"
     },
     "output_type": "display_data"
    }
   ],
   "source": [
    "#Scatter Plot\n",
    "X = df['Hours']\n",
    "Y = df['Scores']\n",
    "\n",
    "plt.scatter(X,Y,color='red')\n",
    "plt.xlabel('Number of Study Hours')\n",
    "plt.ylabel('Percentage Obtained')\n",
    "plt.show()"
   ]
  },
  {
   "cell_type": "markdown",
   "metadata": {},
   "source": [
    "<div style=\"background-color: green;text-align:center;padding: 20px;font-size: 16px;color:white;\">\n",
    "FITTING THE MODEL - LINEAR REGRESSION FROM SCRATCH\n",
    "</div>"
   ]
  },
  {
   "cell_type": "code",
   "execution_count": 7,
   "metadata": {},
   "outputs": [],
   "source": [
    "def mean(values):\n",
    "    return sum(values) / float(len(values))"
   ]
  },
  {
   "cell_type": "code",
   "execution_count": 8,
   "metadata": {},
   "outputs": [
    {
     "name": "stdout",
     "output_type": "stream",
     "text": [
      "9.775803390787475 2.4836734053731746\n"
     ]
    }
   ],
   "source": [
    "# mean of our inputs and outputs\n",
    "x_mean = mean(X)\n",
    "y_mean = mean(Y)\n",
    "\n",
    "#total number of values\n",
    "n = len(X)\n",
    "\n",
    "# using the formula to calculate the b1 and b0\n",
    "numerator = 0\n",
    "denominator = 0\n",
    "for i in range(n):\n",
    "    numerator += (X[i] - x_mean) * (Y[i] - y_mean)\n",
    "    denominator += (X[i] - x_mean) ** 2\n",
    "    \n",
    "b1 = numerator / denominator\n",
    "b0 = y_mean - (b1 * x_mean)\n",
    "\n",
    "#printing the coefficient\n",
    "print(b1, b0)\n",
    "\n"
   ]
  },
  {
   "cell_type": "code",
   "execution_count": 9,
   "metadata": {},
   "outputs": [
    {
     "data": {
      "image/png": "[encoded data removed]",
      "text/plain": [
       "<Figure size 432x288 with 1 Axes>"
      ]
     },
     "metadata": {
      "needs_background": "light"
     },
     "output_type": "display_data"
    }
   ],
   "source": [
    "#plotting values \n",
    "x_max = np.max(X) + 1\n",
    "x_min = np.min(X) - 1\n",
    "\n",
    "#calculating line values of x and y\n",
    "x = np.linspace(x_min, x_max, 10)\n",
    "y = b0 + b1 * x\n",
    "\n",
    "#plotting line \n",
    "plt.plot(x, y, color='#00ff00', label='Linear Regression')\n",
    "\n",
    "#plot the data point\n",
    "plt.scatter(X, Y, color='#ff0000', label='Data Point')\n",
    "\n",
    "# x-axis label\n",
    "plt.xlabel('Number of Study Hours')\n",
    "\n",
    "#y-axis label\n",
    "plt.ylabel('Percentage Score')\n",
    "\n",
    "plt.legend()\n",
    "plt.show()"
   ]
  },
  {
   "cell_type": "markdown",
   "metadata": {},
   "source": [
    "<div style=\"background-color:red;text-align:center;padding: 20px;font-size: 16px;color:white;\">\n",
    "PREDICTION USING LR FROM SCRATCH\n",
    "</div>"
   ]
  },
  {
   "cell_type": "code",
   "execution_count": 10,
   "metadata": {},
   "outputs": [
    {
     "name": "stdout",
     "output_type": "stream",
     "text": [
      "when you read for 9.25 hours, you will get  92.90985477015732  percentage\n"
     ]
    }
   ],
   "source": [
    "def predict(x):\n",
    "    return (b0 + b1 * x)\n",
    "y_pred = predict(9.25)                      \n",
    "print(\"when you read for 9.25 hours, you will get \", y_pred, \" percentage\")"
   ]
  },
  {
   "cell_type": "markdown",
   "metadata": {},
   "source": [
    "<div style=\"background-color:orange;text-align:center;padding: 20px;font-size: 16px;color:black;\">\n",
    "PREDICTION USING LR FROM SCIKIT LEARN\n",
    "</div>"
   ]
  },
  {
   "cell_type": "code",
   "execution_count": 11,
   "metadata": {},
   "outputs": [
    {
     "data": {
      "text/plain": [
       "LinearRegression()"
      ]
     },
     "execution_count": 11,
     "metadata": {},
     "output_type": "execute_result"
    }
   ],
   "source": [
    "from sklearn.linear_model import LinearRegression\n",
    "\n",
    "X = df.drop(['Scores'],axis=1)               \n",
    "Y = df['Scores'] \n",
    "\n",
    "reg = LinearRegression()  #creating object reg\n",
    "reg.fit(X,Y)     # Fitting the Data set"
   ]
  },
  {
   "cell_type": "code",
   "execution_count": 12,
   "metadata": {},
   "outputs": [
    {
     "data": {
      "image/png": "[encoded data removed]",
      "text/plain": [
       "<Figure size 432x288 with 1 Axes>"
      ]
     },
     "metadata": {
      "needs_background": "light"
     },
     "output_type": "display_data"
    }
   ],
   "source": [
    "#Visualizing and drawing the best-fit line:\n",
    "\n",
    "plt.scatter(X,Y,color='red')                      #Scatter Plot\n",
    "plt.plot(X,reg.predict(X),color='blue')           #Plotting Best Fit Line\n",
    "plt.xlabel('Number of Study Hours')\n",
    "plt.ylabel('Percentage Obtained')\n",
    "plt.show()\n",
    "\n"
   ]
  },
  {
   "cell_type": "code",
   "execution_count": 13,
   "metadata": {},
   "outputs": [
    {
     "name": "stdout",
     "output_type": "stream",
     "text": [
      "when you read for 9.25 hours, you will get  [92.90985477]  percentage\n"
     ]
    }
   ],
   "source": [
    "y_pred = reg.predict([[9.25]])                      \n",
    "print(\"when you read for 9.25 hours, you will get \", y_pred, \" percentage\")"
   ]
  },
  {
   "cell_type": "markdown",
   "metadata": {},
   "source": [
    "<div style=\"background-color:green;text-align:center;padding: 20px;font-size: 16px;color:white;\">\n",
    "COMPARISION\n",
    "</div>"
   ]
  },
  {
   "cell_type": "raw",
   "metadata": {},
   "source": [
    "From Scratch = 92.91%\n",
    "\n",
    "From Scikit Learn = 92.91%"
   ]
  },
  {
   "cell_type": "markdown",
   "metadata": {},
   "source": [
    "<div style=\"background-color:blue;text-align:center;padding: 20px;font-size: 16px;color:white;\">\n",
    "GRIP - THE SPARK FOUNDATION\n",
    "</div>"
   ]
  }
 ],
 "metadata": {
  "kernelspec": {
   "display_name": "Python 3",
   "language": "python",
   "name": "python3"
  },
  "language_info": {
   "codemirror_mode": {
    "name": "ipython",
    "version": 3
   },
   "file_extension": ".py",
   "mimetype": "text/x-python",
   "name": "python",
   "nbconvert_exporter": "python",
   "pygments_lexer": "ipython3",
   "version": "3.8.2"
  }
 },
 "nbformat": 4,
 "nbformat_minor": 4
}
